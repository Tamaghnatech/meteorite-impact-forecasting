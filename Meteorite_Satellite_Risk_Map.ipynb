{
 "cells": [
  {
   "cell_type": "markdown",
   "metadata": {},
   "source": [
    "# 🌍 Meteorite Risk Zone Predictor with Satellite Overlay\n",
    "This notebook trains a ConvLSTM2D model to predict future meteorite impact zones and visualizes them over satellite maps using Plotly + Mapbox."
   ]
  },
  {
   "cell_type": "code",
   "execution_count": null,
   "metadata": {},
   "outputs": [],
   "source": [
    "# ✅ Install required libraries\n",
    "!pip install scikit-learn folium plotly tensorflow --quiet"
   ]
  },
  {
   "cell_type": "code",
   "execution_count": null,
   "metadata": {},
   "outputs": [],
   "source": [
    "# 🔁 Upload meteorite CSV\n",
    "from google.colab import files\n",
    "uploaded = files.upload()"
   ]
  },
  {
   "cell_type": "code",
   "execution_count": null,
   "metadata": {},
   "outputs": [],
   "source": [
    "# 🧹 Prepare Tensor\n",
    "import pandas as pd\n",
    "import numpy as np\n",
    "from sklearn.preprocessing import MinMaxScaler\n",
    "\n",
    "df = pd.read_csv(next(iter(uploaded)))\n",
    "df.columns = df.columns.str.strip().str.lower().str.replace(" ", "_")\n",
    "df = df.dropna(subset=['reclat', 'reclong', 'year'])\n",
    "df['year'] = pd.to_numeric(df['year'], errors='coerce')\n",
    "df = df.dropna(subset=['year'])\n",
    "df['decade'] = (df['year'] // 10) * 10\n",
    "\n",
    "lat_bins = np.arange(-90, 91, 5)\n",
    "lon_bins = np.arange(-180, 181, 5)\n",
    "df['lat_bin'] = pd.cut(df['reclat'], bins=lat_bins, labels=False)\n",
    "df['lon_bin'] = pd.cut(df['reclong'], bins=lon_bins, labels=False)\n",
    "\n",
    "unique_decades = sorted(df['decade'].unique().astype(int))\n",
    "T, H, W = len(unique_decades), len(lat_bins)-1, len(lon_bins)-1\n",
    "tensor = np.zeros((T, H, W), dtype=np.float32)\n",
    "\n",
    "for t, decade in enumerate(unique_decades):\n",
    "    sub = df[df['decade'] == decade]\n",
    "    for _, row in sub.iterrows():\n",
    "        if not np.isnan(row['lat_bin']) and not np.isnan(row['lon_bin']):\n",
    "            tensor[t, int(row['lat_bin']), int(row['lon_bin'])] += 1\n",
    "\n",
    "scaler = MinMaxScaler()\n",
    "tensor_flat = tensor.reshape(T, -1)\n",
    "tensor_scaled = scaler.fit_transform(tensor_flat).reshape(T, H, W)\n",
    "X = tensor_scaled[:-1].reshape((-1, 1, H, W, 1))\n",
    "y = tensor_scaled[1:].reshape((-1, H, W, 1))"
   ]
  },
  {
   "cell_type": "code",
   "execution_count": null,
   "metadata": {},
   "outputs": [],
   "source": [
    "# 🧠 ConvLSTM2D Model\n",
    "import tensorflow as tf\n",
    "from tensorflow.keras.models import Sequential\n",
    "from tensorflow.keras.layers import ConvLSTM2D, BatchNormalization, Conv2D, Reshape\n",
    "\n",
    "model = Sequential([\n",
    "    ConvLSTM2D(filters=64, kernel_size=(3, 3), input_shape=(1, H, W, 1), padding='same', return_sequences=False),\n",
    "    BatchNormalization(),\n",
    "    Reshape((H, W, 64)),\n",
    "    Conv2D(filters=1, kernel_size=(3, 3), activation='sigmoid', padding='same')\n",
    "])\n",
    "\n",
    "model.compile(optimizer='adam', loss='mse')\n",
    "model.fit(X, y, epochs=20, batch_size=2)"
   ]
  },
  {
   "cell_type": "code",
   "execution_count": null,
   "metadata": {},
   "outputs": [],
   "source": [
    "# 🗺️ Predict and visualize satellite overlay\n",
    "import plotly.express as px\n",
    "import plotly.io as pio\n",
    "pio.renderers.default = "colab"\n",
    "px.set_mapbox_access_token("pk.eyJ1IjoidmlwZXI5OSIsImEiOiJjbWF6cTB5bnQwa3Q4MnZyMHF5aW9xbW5nIn0.jLrKw8YyA4OMFuSTBIhDag")\n",
    "\n",
    "pred = model.predict(X[-1:])[0, :, :, 0]\n",
    "lat, lon, risk = [], [], []\n",
    "for i in range(pred.shape[0]):\n",
    "    for j in range(pred.shape[1]):\n",
    "        val = pred[i][j]\n",
    "        if val > 0.01:\n",
    "            lat.append(-90 + i * 5 + 2.5)\n",
    "            lon.append(-180 + j * 5 + 2.5)\n",
    "            risk.append(val)\n",
    "\n",
    "import pandas as pd\n",
    "df_map = pd.DataFrame({'lat': lat, 'lon': lon, 'risk': risk})\n",
    "fig = px.density_mapbox(df_map, lat='lat', lon='lon', z='risk', radius=15, center=dict(lat=0, lon=0), zoom=1, mapbox_style="satellite-streets")\n",
    "fig.update_layout(height=600, margin={"r":0,"t":30,"l":0,"b":0})\n",
    "fig.show()"
   ]
  }
 ],
 "metadata": {
  "colab": {
   "name": "Meteorite_Satellite_Risk_Map.ipynb"
  },
  "kernelspec": {
   "display_name": "Python 3",
   "language": "python",
   "name": "python3"
  },
  "language_info": {
   "name": "python"
  }
 },
 "nbformat": 4,
 "nbformat_minor": 1
}